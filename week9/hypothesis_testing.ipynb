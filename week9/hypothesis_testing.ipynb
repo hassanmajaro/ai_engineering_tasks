{
  "cells": [
    {
      "cell_type": "code",
      "execution_count": 2,
      "metadata": {},
      "outputs": [],
      "source": [
        "import gdown"
      ]
    },
    {
      "cell_type": "code",
      "execution_count": 3,
      "metadata": {
        "colab": {
          "base_uri": "https://localhost:8080/",
          "height": 105
        },
        "id": "KsNTUQVUflfh",
        "outputId": "3bfec481-06f6-40ed-9f37-aec25f74c8aa"
      },
      "outputs": [
        {
          "name": "stderr",
          "output_type": "stream",
          "text": [
            "Downloading...\n",
            "From: https://drive.google.com/uc?id=1yB5qSBOLl96Y563nIewKOU8RN_gsY3dO\n",
            "To: c:\\Users\\ncc\\Desktop\\ai_engineering\\module_2\\week9\\data.csv\n",
            "100%|██████████| 52.0k/52.0k [00:00<00:00, 43.5MB/s]\n"
          ]
        },
        {
          "data": {
            "text/plain": [
              "'data.csv'"
            ]
          },
          "execution_count": 3,
          "metadata": {},
          "output_type": "execute_result"
        }
      ],
      "source": [
        "file_id = '1yB5qSBOLl96Y563nIewKOU8RN_gsY3dO'  # Make sure it's a string\n",
        "gdown.download(f'https://drive.google.com/uc?id={file_id}', 'data.csv', quiet=False)"
      ]
    },
    {
      "cell_type": "code",
      "execution_count": 8,
      "metadata": {
        "id": "kDadjSiffopk"
      },
      "outputs": [],
      "source": [
        "import numpy as np\n",
        "import pandas as pd\n",
        "import scipy"
      ]
    },
    {
      "cell_type": "code",
      "execution_count": 6,
      "metadata": {
        "colab": {
          "base_uri": "https://localhost:8080/",
          "height": 206
        },
        "id": "zGnJTPv5fr9H",
        "outputId": "80b061ac-f96b-45d4-adf8-97acee3b8cf3"
      },
      "outputs": [
        {
          "data": {
            "text/html": [
              "<div>\n",
              "<style scoped>\n",
              "    .dataframe tbody tr th:only-of-type {\n",
              "        vertical-align: middle;\n",
              "    }\n",
              "\n",
              "    .dataframe tbody tr th {\n",
              "        vertical-align: top;\n",
              "    }\n",
              "\n",
              "    .dataframe thead th {\n",
              "        text-align: right;\n",
              "    }\n",
              "</style>\n",
              "<table border=\"1\" class=\"dataframe\">\n",
              "  <thead>\n",
              "    <tr style=\"text-align: right;\">\n",
              "      <th></th>\n",
              "      <th>Unnamed: 0</th>\n",
              "      <th>country</th>\n",
              "      <th>food_category</th>\n",
              "      <th>consumption</th>\n",
              "      <th>co2_emission</th>\n",
              "    </tr>\n",
              "  </thead>\n",
              "  <tbody>\n",
              "    <tr>\n",
              "      <th>0</th>\n",
              "      <td>1</td>\n",
              "      <td>Argentina</td>\n",
              "      <td>pork</td>\n",
              "      <td>10.51</td>\n",
              "      <td>37.20</td>\n",
              "    </tr>\n",
              "    <tr>\n",
              "      <th>1</th>\n",
              "      <td>2</td>\n",
              "      <td>Argentina</td>\n",
              "      <td>poultry</td>\n",
              "      <td>38.66</td>\n",
              "      <td>41.53</td>\n",
              "    </tr>\n",
              "    <tr>\n",
              "      <th>2</th>\n",
              "      <td>3</td>\n",
              "      <td>Argentina</td>\n",
              "      <td>beef</td>\n",
              "      <td>55.48</td>\n",
              "      <td>1712.00</td>\n",
              "    </tr>\n",
              "    <tr>\n",
              "      <th>3</th>\n",
              "      <td>4</td>\n",
              "      <td>Argentina</td>\n",
              "      <td>lamb_goat</td>\n",
              "      <td>1.56</td>\n",
              "      <td>54.63</td>\n",
              "    </tr>\n",
              "    <tr>\n",
              "      <th>4</th>\n",
              "      <td>5</td>\n",
              "      <td>Argentina</td>\n",
              "      <td>fish</td>\n",
              "      <td>4.36</td>\n",
              "      <td>6.96</td>\n",
              "    </tr>\n",
              "  </tbody>\n",
              "</table>\n",
              "</div>"
            ],
            "text/plain": [
              "   Unnamed: 0    country food_category  consumption  co2_emission\n",
              "0           1  Argentina          pork        10.51         37.20\n",
              "1           2  Argentina       poultry        38.66         41.53\n",
              "2           3  Argentina          beef        55.48       1712.00\n",
              "3           4  Argentina     lamb_goat         1.56         54.63\n",
              "4           5  Argentina          fish         4.36          6.96"
            ]
          },
          "execution_count": 6,
          "metadata": {},
          "output_type": "execute_result"
        }
      ],
      "source": [
        "# Read the downloaded CSV file\n",
        "df = pd.read_csv('data.csv')\n",
        "df.head()"
      ]
    },
    {
      "cell_type": "code",
      "execution_count": 7,
      "metadata": {
        "id": "FhiFlrdxfvW_"
      },
      "outputs": [],
      "source": [
        "df.drop('Unnamed: 0', axis = 1, inplace = True)"
      ]
    },
    {
      "cell_type": "code",
      "execution_count": 9,
      "metadata": {
        "id": "MHnO7U-Of4C3"
      },
      "outputs": [],
      "source": [
        "from scipy import stats"
      ]
    },
    {
      "cell_type": "code",
      "execution_count": 10,
      "metadata": {
        "id": "Homhww8lgI2_"
      },
      "outputs": [],
      "source": [
        "# Select Argentina beef consumption\n",
        "arg_beef = df[(df[\"country\"]==\"Argentina\") & (df[\"food_category\"]==\"beef\")]"
      ]
    },
    {
      "cell_type": "markdown",
      "metadata": {
        "id": "baxJeaeJgWUo"
      },
      "source": [
        "**Task:**\n",
        "Is the beef consumption in Argentina significantly different from that in Bangladesh?\n",
        "\n",
        "H₀: Mean beef consumption (Argentina) = Mean beef consumption (Bangladesh)\n",
        "\n",
        "H₁: Mean beef consumption (Argentina) ≠ Mean beef consumption (Bangladesh)"
      ]
    },
    {
      "cell_type": "code",
      "execution_count": 11,
      "metadata": {
        "colab": {
          "base_uri": "https://localhost:8080/",
          "height": 89
        },
        "id": "07kV8d91gNoX",
        "outputId": "34cc1ccd-b7b1-4205-8637-63e9635ea69d"
      },
      "outputs": [
        {
          "data": {
            "text/html": [
              "<div>\n",
              "<style scoped>\n",
              "    .dataframe tbody tr th:only-of-type {\n",
              "        vertical-align: middle;\n",
              "    }\n",
              "\n",
              "    .dataframe tbody tr th {\n",
              "        vertical-align: top;\n",
              "    }\n",
              "\n",
              "    .dataframe thead th {\n",
              "        text-align: right;\n",
              "    }\n",
              "</style>\n",
              "<table border=\"1\" class=\"dataframe\">\n",
              "  <thead>\n",
              "    <tr style=\"text-align: right;\">\n",
              "      <th></th>\n",
              "      <th>country</th>\n",
              "      <th>food_category</th>\n",
              "      <th>consumption</th>\n",
              "      <th>co2_emission</th>\n",
              "    </tr>\n",
              "  </thead>\n",
              "  <tbody>\n",
              "    <tr>\n",
              "      <th>1421</th>\n",
              "      <td>Bangladesh</td>\n",
              "      <td>beef</td>\n",
              "      <td>1.28</td>\n",
              "      <td>39.5</td>\n",
              "    </tr>\n",
              "  </tbody>\n",
              "</table>\n",
              "</div>"
            ],
            "text/plain": [
              "         country food_category  consumption  co2_emission\n",
              "1421  Bangladesh          beef         1.28          39.5"
            ]
          },
          "execution_count": 11,
          "metadata": {},
          "output_type": "execute_result"
        }
      ],
      "source": [
        "bang_beef = df[(df[\"country\"]==\"Bangladesh\") & (df[\"food_category\"]==\"beef\")]\n",
        "bang_beef"
      ]
    },
    {
      "cell_type": "code",
      "execution_count": 12,
      "metadata": {
        "colab": {
          "base_uri": "https://localhost:8080/"
        },
        "id": "eoVY16OHgi3H",
        "outputId": "e6c85c63-7ee6-42d9-fd23-faa9b480250e"
      },
      "outputs": [
        {
          "name": "stdout",
          "output_type": "stream",
          "text": [
            "T statistic: 48.39116197138747\n",
            "P value: 1.1337487640798306e-79\n"
          ]
        }
      ],
      "source": [
        "arg_beef_sample = np.random.normal(arg_beef['consumption'].mean(), scale = 6, size = 60)\n",
        "bang_beef_sample = np.random.normal(bang_beef['consumption'].mean(), scale = 6, size = 60)\n",
        "\n",
        "t_statistic, p_value = stats.ttest_ind(arg_beef_sample, bang_beef_sample)\n",
        "\n",
        "print('T statistic:', t_statistic)\n",
        "print('P value:', p_value)"
      ]
    },
    {
      "cell_type": "markdown",
      "metadata": {
        "id": "ZxIsnFFwnfHk"
      },
      "source": [
        "From the results above, I observe that the p-value is less than 0.05, hence it reject our null hypothesis. This implies that there isn't enough statistical evidence to support our claim that `Mean beef consumption (Argentina) = Mean beef consumption (Bangladesh)`."
      ]
    }
  ],
  "metadata": {
    "colab": {
      "provenance": []
    },
    "kernelspec": {
      "display_name": "Python 3",
      "name": "python3"
    },
    "language_info": {
      "codemirror_mode": {
        "name": "ipython",
        "version": 3
      },
      "file_extension": ".py",
      "mimetype": "text/x-python",
      "name": "python",
      "nbconvert_exporter": "python",
      "pygments_lexer": "ipython3",
      "version": "3.13.5"
    }
  },
  "nbformat": 4,
  "nbformat_minor": 0
}
