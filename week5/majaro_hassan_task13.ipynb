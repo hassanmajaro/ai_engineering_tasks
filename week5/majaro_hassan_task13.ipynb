{
 "cells": [
  {
   "cell_type": "markdown",
   "id": "798b6bde",
   "metadata": {},
   "source": [
    "#### Question 1\n",
    "Create a 6x6 NumPy array with random integers between 1 and 50. Display the array."
   ]
  },
  {
   "cell_type": "code",
   "execution_count": 31,
   "id": "9fbbe488",
   "metadata": {},
   "outputs": [
    {
     "name": "stdout",
     "output_type": "stream",
     "text": [
      "[[15 41 45 21 35 20]\n",
      " [38  2 42 14 32 33]\n",
      " [ 1 31 20 31 15 14]\n",
      " [43 10 33  1 47 46]\n",
      " [ 5 25 15 14 24 42]\n",
      " [41  3 39 19 45 10]]\n"
     ]
    }
   ],
   "source": [
    "import numpy as np\n",
    "\n",
    "arr = np.random.randint(1, 50, size=(6, 6))\n",
    "print(arr)\n",
    "# print(arr.ndim)"
   ]
  },
  {
   "cell_type": "markdown",
   "id": "87e4077b",
   "metadata": {},
   "source": [
    "#### Question 2\n",
    "Extract the following from the array you created in Question1: The first two rows. The last three columns. All even numbers in the array"
   ]
  },
  {
   "cell_type": "code",
   "execution_count": 38,
   "id": "b65d6abe",
   "metadata": {},
   "outputs": [
    {
     "name": "stdout",
     "output_type": "stream",
     "text": [
      "First two rows are: \n",
      " [[15 41 45 21 35 20]\n",
      " [38  2 42 14 32 33]] \n",
      "\n",
      "last 3 columns are:\n",
      " [[21 35 20]\n",
      " [14 32 33]\n",
      " [31 15 14]\n",
      " [ 1 47 46]\n",
      " [14 24 42]\n",
      " [19 45 10]] \n",
      "\n",
      "Even numbers in array are:\n",
      " [20 38  2 42 14 32 20 14 10 46 14 24 42 10]\n"
     ]
    }
   ],
   "source": [
    "first2row = arr[:2]\n",
    "print(\"First two rows are: \\n\",first2row,\"\\n\")\n",
    "\n",
    "last3col = arr[:, -3:]\n",
    "print(\"last 3 columns are:\\n\", last3col,\"\\n\")\n",
    "\n",
    "# to print all the even numbers in array\n",
    "even_numbers = arr[arr % 2 == 0]\n",
    "print(\"Even numbers in array are:\\n\", even_numbers)\n"
   ]
  },
  {
   "cell_type": "markdown",
   "id": "b0000281",
   "metadata": {},
   "source": [
    "#### Question 3\n",
    "Perform the following array transformations: Reshape the array into a 3D (3, 2, 6) array. Flatten the reshaped array back to 1D"
   ]
  },
  {
   "cell_type": "code",
   "execution_count": 46,
   "id": "d2dac292",
   "metadata": {},
   "outputs": [
    {
     "name": "stdout",
     "output_type": "stream",
     "text": [
      "Reshaped array into 3D:\n",
      " [[[15 41 45 21 35 20]\n",
      "  [38  2 42 14 32 33]]\n",
      "\n",
      " [[ 1 31 20 31 15 14]\n",
      "  [43 10 33  1 47 46]]\n",
      "\n",
      " [[ 5 25 15 14 24 42]\n",
      "  [41  3 39 19 45 10]]] \n",
      "\n",
      "Flattend array back:\n",
      " [15 41 45 21 35 20 38  2 42 14 32 33  1 31 20 31 15 14 43 10 33  1 47 46\n",
      "  5 25 15 14 24 42 41  3 39 19 45 10]\n"
     ]
    }
   ],
   "source": [
    "# reshaping to 3D (3, 2, 6)\n",
    "reshaped = arr.reshape(3, 2, 6)\n",
    "print(\"Reshaped array into 3D:\\n\", reshaped, \"\\n\")\n",
    "\n",
    "# flatten back to 1D\n",
    "print(\"Flattend array back:\\n\", reshaped.flatten())"
   ]
  },
  {
   "cell_type": "markdown",
   "id": "a37c183b",
   "metadata": {},
   "source": [
    "#### Question 4\n",
    "Generate a 4x4 identify matrix and replace the diagonal with numbers from 10 to 40, with a step of 10."
   ]
  },
  {
   "cell_type": "code",
   "execution_count": 89,
   "id": "d667a687",
   "metadata": {},
   "outputs": [
    {
     "name": "stdout",
     "output_type": "stream",
     "text": [
      "4x4 Identity matrix:\n",
      " [[1. 0. 0. 0.]\n",
      " [0. 1. 0. 0.]\n",
      " [0. 0. 1. 0.]\n",
      " [0. 0. 0. 1.]]\n",
      "Replacing the diagonal:\n",
      " [[10  0  0  0]\n",
      " [ 0 20  0  0]\n",
      " [ 0  0 30  0]\n",
      " [ 0  0  0 40]]\n"
     ]
    }
   ],
   "source": [
    "# 4x4 identity matrix\n",
    "matrix4x4 = np.identity(4)          # or use eye\n",
    "print(\"4x4 Identity matrix:\\n\", matrix4x4)\n",
    "\n",
    "# replacing the diagonal with numbers 10-40 with 10 step\n",
    "diag_matrix = np.diag(np.arange(10, 50, 10))            # np.fill_diagonal(four_by_four, range(10, 50, 10))\n",
    "print(\"Replacing the diagonal:\\n\", diag_matrix)"
   ]
  },
  {
   "cell_type": "markdown",
   "id": "a4950704",
   "metadata": {},
   "source": [
    "#### Question 5\n",
    "Perform matrix multiplication between: A 3x4 matrix of random integers (1-10), A 4x3 matrix of random integers (1-10)"
   ]
  },
  {
   "cell_type": "code",
   "execution_count": 83,
   "id": "335b275d",
   "metadata": {},
   "outputs": [
    {
     "name": "stdout",
     "output_type": "stream",
     "text": [
      "Matrix 1 (3x4):\n",
      " [[9 2 8 6]\n",
      " [2 1 1 2]\n",
      " [4 3 9 5]]\n",
      "Matrix 2 (4x3):\n",
      " [[3 6 6]\n",
      " [2 7 5]\n",
      " [5 2 6]\n",
      " [5 6 5]]\n",
      "\n",
      "Matrix 1 multipled by Matrix 2 is:\n",
      " [[101 120 142]\n",
      " [ 23  33  33]\n",
      " [ 88  93 118]]\n"
     ]
    }
   ],
   "source": [
    "matrix1 = np.random.randint(1, 10, size=(3, 4))\n",
    "matrix2 = np.random.randint(1, 10, size=(4, 3))\n",
    "\n",
    "print(\"Matrix 1 (3x4):\\n\", matrix1)\n",
    "print(\"Matrix 2 (4x3):\\n\", matrix2)\n",
    "\n",
    "mult = np.matmul(matrix1, matrix2)\n",
    "print(\"\\nMatrix 1 multipled by Matrix 2 is:\\n\",mult)"
   ]
  },
  {
   "cell_type": "markdown",
   "id": "a7b84883",
   "metadata": {},
   "source": [
    "#### Question 6\n",
    "Create a function takes a 2D NumPy array as input and returns a new array where: All even numbers are squared. All odd numbers are replaced by -1.+"
   ]
  },
  {
   "cell_type": "code",
   "execution_count": null,
   "id": "6488ba63",
   "metadata": {},
   "outputs": [],
   "source": [
    "def array_operation():\n",
    "    try:\n",
    "        x = int(input('Enter number of rows here: '))\n",
    "        y = int(input('Enter number of columns here: '))\n",
    "        arr = []\n",
    "        for i in range(x):\n",
    "            for j in range(y):\n",
    "                arr.append(int(input(f'Value at row {i} and column {j}')))\n",
    "        array = np.array(arr).reshape(x, y)\n",
    "        print('Original array:')\n",
    "        print(array)\n",
    "\n",
    "        square_array = np.where(array % 2 == 0, array ** 2, array)\n",
    "        odd_square_array = np.where(square_array % 2 != 0, -1, square_array)\n",
    "        return odd_square_array\n",
    "    except ValueError as e:\n",
    "        return(e)\n",
    "    except Exception as e:\n",
    "        return e\n",
    "\n",
    "array_operation()"
   ]
  }
 ],
 "metadata": {
  "kernelspec": {
   "display_name": "new_module",
   "language": "python",
   "name": "python3"
  },
  "language_info": {
   "codemirror_mode": {
    "name": "ipython",
    "version": 3
   },
   "file_extension": ".py",
   "mimetype": "text/x-python",
   "name": "python",
   "nbconvert_exporter": "python",
   "pygments_lexer": "ipython3",
   "version": "3.13.5"
  }
 },
 "nbformat": 4,
 "nbformat_minor": 5
}
