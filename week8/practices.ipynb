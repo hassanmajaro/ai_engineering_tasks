{
 "cells": [
  {
   "cell_type": "code",
   "execution_count": null,
   "id": "daac8a32",
   "metadata": {},
   "outputs": [
    {
     "name": "stdout",
     "output_type": "stream",
     "text": [
      "5.000000000000001\n"
     ]
    }
   ],
   "source": [
    "import numpy as np\n",
    "A = np.array([[2, 1], [1, 3]])\n",
    "print(np.linalg.det(A))\n",
    "\n",
    "\n",
    "# this code computes the determinant of A by multiplying the diagonals and subtracting them\n",
    "# det(A) = ad - bc\n",
    "# also note that determinant tells us if our matrix is invertible or not, that is, \n",
    "# if det = 0; then it is not invertible and if det != 0; then it is invertible"
   ]
  },
  {
   "cell_type": "code",
   "execution_count": null,
   "id": "155a4aab",
   "metadata": {},
   "outputs": [],
   "source": [
    "# !!study matrix multiplication\n",
    "\n",
    "# if A = (2x3) and B = (3x4)\n",
    "# AB will be (2x4) in the sense that the number of columns in A is the number of rows in B"
   ]
  },
  {
   "cell_type": "markdown",
   "id": "8c0d045d",
   "metadata": {},
   "source": [
    ".fillna()  is to use fill values in rows or columns\n",
    ".dropna() is used to remove rows or columns with missing values\n",
    "\n",
    ".isnull().sum() is used to give counts of missing values per column\n",
    "\n",
    "\n",
    "eigenvectors is a like a direction that when you multiply a matrix by that vector, it doesn't change values."
   ]
  },
  {
   "cell_type": "code",
   "execution_count": null,
   "id": "7c2810a0",
   "metadata": {},
   "outputs": [],
   "source": [
    "# for eigenvectors in numpy we use\n",
    "np.linalg.eig(A)"
   ]
  }
 ],
 "metadata": {
  "kernelspec": {
   "display_name": "my_venv",
   "language": "python",
   "name": "python3"
  },
  "language_info": {
   "codemirror_mode": {
    "name": "ipython",
    "version": 3
   },
   "file_extension": ".py",
   "mimetype": "text/x-python",
   "name": "python",
   "nbconvert_exporter": "python",
   "pygments_lexer": "ipython3",
   "version": "3.13.7"
  }
 },
 "nbformat": 4,
 "nbformat_minor": 5
}
