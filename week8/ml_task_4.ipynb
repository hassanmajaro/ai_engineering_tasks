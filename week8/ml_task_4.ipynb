{
 "cells": [
  {
   "cell_type": "markdown",
   "id": "3938cd57",
   "metadata": {},
   "source": [
    "# Questions\n",
    "given the following concepts: \n",
    "- chi-square test (for categorical data) \n",
    "- ANOVA (for comparing more than two means) \n",
    "- Two tailed tests \n",
    "- Proportion tests \n",
    "\n",
    "read about them, and explain"
   ]
  },
  {
   "cell_type": "markdown",
   "id": "c05ee9ed",
   "metadata": {},
   "source": [
    "# Answer"
   ]
  },
  {
   "cell_type": "markdown",
   "id": "8f851a65",
   "metadata": {},
   "source": [
    "## Hypothesis Testing\n",
    "1.  **Chi-Square Test (for categorical data)**\n",
    "2.  **ANOVA (Analysis of Variance)**\n",
    "3.  **Two-Tailed Tests**\n",
    "4.  **Proportion Tests**"
   ]
  },
  {
   "cell_type": "markdown",
   "id": "373b9fd3",
   "metadata": {},
   "source": [
    "## 1.    Chi-square Test (for categorical data)\n",
    "The chi-square tests is used when working with categorical data. It helps to check if there is a relationship between two variables or if the distribution of data fits what was expected.\n",
    "\n",
    "We have;\n",
    "-   **Goodness-of-fit test:** this checks if the data follows an expected pattern.\n",
    "-   **Test of independence:** this check if two varialbes (like gender and product) are related or independent.\n",
    "\n",
    "It works by comparing the values observed in the data to the values expected if there was no relationship. If the difference is very large, then the variables are probably related."
   ]
  },
  {
   "cell_type": "markdown",
   "id": "3ac2cf74",
   "metadata": {},
   "source": [
    "## 2.   ANOVA (Analysis of Variance)\n",
    "ANOVA is used when we want to compare the means of three or more groups. Instead of comparing groups one by one, ANOVA tests them all at once.\n",
    "\n",
    "There are;\n",
    "-   **Null Hypothesis (H_o_):** means that all the group means are the same.\n",
    "-   **Alternative Hypothesis (H_2_):** means at least one group mean is different\n",
    "\n",
    "ANOVA basically looks at the variation between groups compared to the variation within each group. If the differences between groups are much biggere than the differences within groups, then at least one group's mean is different"
   ]
  },
  {
   "cell_type": "markdown",
   "id": "efa73aab",
   "metadata": {},
   "source": [
    "## 3.   Two-Tailed Tests\n",
    "A two-tailed test is used when we want to check for differences in both directions.\n",
    "\n",
    "For example, suppose we want to test if the average height of students is equal to 170cm. With a two-tailed test, we check:\n",
    "-   could the true mean be less than 170?\n",
    "-   could the true mean be greather than 170?\n",
    "\n",
    "If the result shows the mean is too far from 170 in either direction, we reject the null hypotheses.\n",
    "\n",
    "This is different from one-tailed tests, where we only check in one direction (e.g., only greater than 170)."
   ]
  },
  {
   "cell_type": "markdown",
   "id": "55ade880",
   "metadata": {},
   "source": [
    "## 4.   Proportion Tests\n",
    "\n",
    "A proportion test is used when we are dealing with percentages or proportions rather than averages.\n",
    "\n",
    "-   **One-sample proportion test:** used to check if a single group's proportion matches a claimed value (e.g., if 1% of products are defective)\n",
    "-   **Two-sample proportion test:** used to compare two groups to see if their proportions are the same (e.g., checking if the proportion of voters supporting a candidate is the same for men and women)\n",
    "\n",
    "These tests help to decide if differences in proportions are due to chance or if they are statistically significant."
   ]
  }
 ],
 "metadata": {
  "language_info": {
   "name": "python"
  }
 },
 "nbformat": 4,
 "nbformat_minor": 5
}
