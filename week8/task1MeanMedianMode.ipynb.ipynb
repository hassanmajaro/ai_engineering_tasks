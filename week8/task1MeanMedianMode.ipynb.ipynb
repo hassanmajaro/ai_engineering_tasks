{
 "cells": [
  {
   "cell_type": "markdown",
   "id": "ba9cc429",
   "metadata": {},
   "source": [
    "# Mean, Median & Mode\n",
    "\n",
    "##### **Question 1: Class Test Scores**\n",
    "* The following are the Mathematics test scores (out of 20) for a class of 15 students:\n",
    " 5, 8, 10, 12, 12, 12, 13, 14, 14, 15, 16, 18, 18, 20, 20\n",
    "\n",
    "1.1 $$ Mean = \\frac{5 + 8 + 10 + 12 + 12 + 12 + 13 + 14 + 14 + 15 + 16 + 18 + 18 + 20 + 20}{15} = 13.8 $$ \n",
    "\n",
    "1.2 $$ Median = 14 $$ \n",
    "\n",
    "1.3 $$ Median = 14 $$ \n",
    "\n",
    "* If the lowest score (5) was wrongly recorded and should have been 10, how would the mean change? Would the median or mode change? Explain.\n",
    "\n",
    "If the score (5) was wrongly recorded and corrected to 10, the mean would change in the sense 10 would have been added with the scores instead of 5 and the mean would be 14.14 and the Median would still be 14 and the Mode would be 12"
   ]
  },
  {
   "cell_type": "markdown",
   "id": "6e028acf",
   "metadata": {},
   "source": [
    "##### **Question 2: Daily Commute Times**\n",
    "\n",
    "* A group of 9 students reported the time (in minutes) it takes them to get to school each day:\n",
    " 15, 20, 20, 25, 25, 30, 60, 65, 120\n",
    "Find the mean, median, and mode of the data.\n",
    "\n",
    "2.1 $$ Mean = \\frac{15 + 20 + 20 + 25 + 25 + 30 + 60 + 65 + 120}{9} = 42.2$$ \n",
    "\n",
    "2.2 $$ Median = 25 $$\n",
    "\n",
    "2.3 $$ Mode =  20, and  25 (Bimodal) $$\n",
    "\n",
    "\n",
    "* Which measure (mean, median, or mode) do you think best represents the “typical” time it takes students to get to school? Why?\n",
    " (Hint: Think about the effect of the student who takes 120 minutes.)\n",
    "\n",
    " The best center of measure to represent the typical time it takes to students to get to school is **Median** because of the outlier which is 120 minutes\n"
   ]
  },
  {
   "cell_type": "markdown",
   "id": "b74de8ca",
   "metadata": {},
   "source": [
    "##### **Question 3: Shoe Sizes**\n",
    "* The shoe sizes of students in a class are:\n",
    " 38, 39, 38, 40, 41, 42, 39, 39, 40, 38, 37, 39, 40, 41, 42\n",
    "Find the mode of the data.\n",
    "\n",
    "3.1 $$ Mode = 39 $$\n",
    "\n",
    "\n",
    "3.2 &emsp; If a shoe company wants to donate free shoes, which size should they produce most of? Why?\n",
    "I think the size they should produce most is **39** because the frequency of students that use 39 is more.\n",
    "\n",
    "\n",
    "3.3 &emsp; What if they only want to produce one size that would fit the \"average\" student? Should they use mean, median, or mode? Defend your answer. <br>\n",
    "\n",
    "If they want produce only one size that would fit the average student, it would be best if they use **Median** because atleast 50% of the data is less than or equal  or greater than or equal to the Median\n"
   ]
  }
 ],
 "metadata": {
  "language_info": {
   "name": "python"
  }
 },
 "nbformat": 4,
 "nbformat_minor": 5
}
