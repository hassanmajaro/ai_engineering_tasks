{
 "cells": [
  {
   "cell_type": "markdown",
   "id": "3b81d10f",
   "metadata": {},
   "source": [
    "# Task 2: Measures of Spread"
   ]
  },
  {
   "cell_type": "markdown",
   "id": "eb0e62e0",
   "metadata": {},
   "source": [
    "**Given(`[4, 8, 6, 5, 3]`)**<br>\n",
    "Calculate the variance"
   ]
  },
  {
   "cell_type": "markdown",
   "id": "523ac2db",
   "metadata": {},
   "source": [
    "### Answer"
   ]
  },
  {
   "cell_type": "markdown",
   "id": "60636b84",
   "metadata": {},
   "source": [
    "$$ \\sigma^2 = \\frac{\\mathbb{E}[(x - \\bar{x})^2]}{n}$$\n"
   ]
  },
  {
   "cell_type": "markdown",
   "id": "91366193",
   "metadata": {},
   "source": [
    "$$ \\bar{x} = \\frac{4 + 8 + 6 + 5 + 3}{5} = 5.2 $$"
   ]
  },
  {
   "cell_type": "markdown",
   "id": "f36afa43",
   "metadata": {},
   "source": [
    "| $$ x $$  | $$(x - \\bar{x})$$ | $$(x - x)^2$$ |\n",
    "|----------|----------|----------|\n",
    "| 4        | -1.2     | 1.44   |\n",
    "| 8        | 2.8      | 7.84   |\n",
    "| 6        | 0.8      | 0.64   |\n",
    "| 5        | -0.2     | 0.04   |\n",
    "| 3        | 2.2      | 4.84   |\n",
    "|    |  **Total**        | **14.8**   |\n",
    "\n"
   ]
  },
  {
   "cell_type": "markdown",
   "id": "62acd56f",
   "metadata": {},
   "source": [
    "$$ \\sigma^2 = \\frac{14.8}{5} = 2.96$$\n"
   ]
  }
 ],
 "metadata": {
  "language_info": {
   "name": "python"
  }
 },
 "nbformat": 4,
 "nbformat_minor": 5
}
