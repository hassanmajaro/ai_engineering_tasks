{
 "cells": [
  {
   "cell_type": "markdown",
   "id": "5d1b0116",
   "metadata": {},
   "source": [
    "# Part 1"
   ]
  },
  {
   "cell_type": "code",
   "execution_count": 2,
   "id": "88caceb3",
   "metadata": {},
   "outputs": [],
   "source": [
    "import numpy as np"
   ]
  },
  {
   "cell_type": "code",
   "execution_count": 5,
   "id": "2c9f4d21",
   "metadata": {},
   "outputs": [
    {
     "name": "stdout",
     "output_type": "stream",
     "text": [
      "Initial Scores:\n",
      " [[80 70 90]\n",
      " [60 85 75]\n",
      " [95 88 92]\n",
      " [70 60 65]]\n"
     ]
    }
   ],
   "source": [
    "#3.1 representing data as matrix\n",
    "\n",
    "scores = np.array([[80, 70, 90],\n",
    "                  [60, 85, 75],\n",
    "                  [95, 88, 92],\n",
    "                  [70, 60, 65]])\n",
    "\n",
    "print(\"Initial Scores:\\n\", scores)"
   ]
  },
  {
   "cell_type": "code",
   "execution_count": 6,
   "id": "15a23810",
   "metadata": {},
   "outputs": [
    {
     "name": "stdout",
     "output_type": "stream",
     "text": [
      "Total score for Student1 is 240\n",
      "Total score for Student2 is 220\n",
      "Total score for Student3 is 275\n",
      "Total score for Student4 is 195\n"
     ]
    }
   ],
   "source": [
    "#3.2 total scores per students\n",
    "\n",
    "sum_rows = np.sum(scores, axis=1)           # sum of all rows\n",
    "\n",
    "for i, total in enumerate(sum_rows, 1):                 # sum of each rows\n",
    "    print(f\"Total score for Student{i} is {total}\")"
   ]
  },
  {
   "cell_type": "code",
   "execution_count": 15,
   "id": "cba28fa9",
   "metadata": {},
   "outputs": [
    {
     "name": "stdout",
     "output_type": "stream",
     "text": [
      "Since maths is twice as important, weighted maths is:\n",
      " [[160  70  90]\n",
      " [120  85  75]\n",
      " [190  88  92]\n",
      " [140  60  65]]\n",
      "Total score for Student1 is 320\n",
      "Total score for Student2 is 280\n",
      "Total score for Student3 is 370\n",
      "Total score for Student4 is 265\n"
     ]
    }
   ],
   "source": [
    "#3.3 applying weights\n",
    "\n",
    "weighed_maths = np.array([2, 1, 1])     # array for maths x 2\n",
    "\n",
    "weighted_maths = scores * weighed_maths     # multiplying math * 2 array with scores\n",
    "print(\"Since maths is twice as important, weighted maths is:\\n\", weighted_maths)\n",
    "\n",
    "new_score = weighted_maths             # updating scores\n",
    "\n",
    "sum_rows2 = np.sum(weighted_maths, axis=1)      # sum of all rows in the new array\n",
    "\n",
    "for i, total in enumerate(sum_rows2, 1):                # sum of each rows of students\n",
    "    print(f\"Total score for Student{i} is {total}\")\n"
   ]
  },
  {
   "cell_type": "code",
   "execution_count": 16,
   "id": "c9644653",
   "metadata": {},
   "outputs": [
    {
     "name": "stdout",
     "output_type": "stream",
     "text": [
      "Average of Maths is 152.5\n",
      "Average of English is 75.75\n",
      "Average of Science is 80.5\n"
     ]
    }
   ],
   "source": [
    "#3.4 average score per subject\n",
    "subjects = [\"Maths\", \"English\", \"Science\"]              # array for subject\n",
    "sub_avg = np.mean(new_score, axis=0)               # calculating the mean/average for all scores/columns\n",
    "\n",
    "for subject, avg in zip(subjects, sub_avg):     # average of each subject/column\n",
    "    print(f\"Average of {subject} is {avg}\")"
   ]
  },
  {
   "cell_type": "code",
   "execution_count": 18,
   "id": "8a358375",
   "metadata": {},
   "outputs": [
    {
     "name": "stdout",
     "output_type": "stream",
     "text": [
      "Final Grade for Student1 is 79.00\n",
      "Final Grade for Student2 is 70.50\n",
      "Final Grade for Student3 is 92.30\n",
      "Final Grade for Student4 is 66.00\n"
     ]
    }
   ],
   "source": [
    "#3.5 final grades using matrix multiplication\n",
    "grades = np.array([0.5, 0.3, 0.2])              # grades\n",
    "final_grade = np.matmul(scores, grades)\n",
    "\n",
    "for i, grade in enumerate(final_grade, 1):\n",
    "    print(f\"Final Grade for Student{i} is {grade:.2f}\")\n"
   ]
  },
  {
   "cell_type": "code",
   "execution_count": null,
   "id": "f5a60523",
   "metadata": {},
   "outputs": [
    {
     "name": "stdout",
     "output_type": "stream",
     "text": [
      "Student1 performed better\n"
     ]
    }
   ],
   "source": [
    "#3.6 comparing students (vector subtraction)\n",
    "student1 = scores[0]\n",
    "student2 = scores[1]\n",
    "\n",
    "sum_student1 = np.sum(scores[0])\n",
    "sum_student2 = np.sum(scores[1])\n",
    "\n",
    "comparing_student = sum_student1 - sum_student2 \n",
    "\n",
    "print(\"Overall Comparison:\")\n",
    "if comparing_student > 0:\n",
    "    print(\"Student1 performed better\")\n",
    "elif comparing_student < 0:\n",
    "    print(\"Student2 performed better\")\n",
    "else:\n",
    "    print(\"Both student tie\")"
   ]
  },
  {
   "cell_type": "markdown",
   "id": "542c26a1",
   "metadata": {},
   "source": [
    "# Hands-On"
   ]
  },
  {
   "cell_type": "code",
   "execution_count": 7,
   "id": "5f895503",
   "metadata": {},
   "outputs": [
    {
     "name": "stdout",
     "output_type": "stream",
     "text": [
      "Initial Scores:\n",
      " [[80 70 90 80]\n",
      " [60 85 75 75]\n",
      " [95 88 92 72]\n",
      " [70 60 65 75]\n",
      " [65 75 80 80]]\n"
     ]
    }
   ],
   "source": [
    "#.1 Representing data as matrix\n",
    "\n",
    "scores_2 = np.array([[80, 70, 90, 80], \n",
    "                     [60, 85, 75, 75], \n",
    "                     [95, 88, 92, 72], \n",
    "                     [70, 60, 65, 75], \n",
    "                     [65, 75, 80, 80]])\n",
    "\n",
    "print(\"Initial Scores:\\n\", scores_2)"
   ]
  },
  {
   "cell_type": "code",
   "execution_count": 8,
   "id": "5b0c05ae",
   "metadata": {},
   "outputs": [
    {
     "name": "stdout",
     "output_type": "stream",
     "text": [
      "Total score for Student1 is 320\n",
      "Total score for Student2 is 295\n",
      "Total score for Student3 is 347\n",
      "Total score for Student4 is 270\n",
      "Total score for Student5 is 300\n"
     ]
    }
   ],
   "source": [
    "#.2 total scores per students\n",
    "\n",
    "total_scores = np.sum(scores_2, axis=1)\n",
    "\n",
    "for i, total in enumerate(total_scores, 1):\n",
    "        print(f\"Total score for Student{i} is {total}\")\n"
   ]
  },
  {
   "cell_type": "code",
   "execution_count": 11,
   "id": "ca10dc82",
   "metadata": {},
   "outputs": [
    {
     "name": "stdout",
     "output_type": "stream",
     "text": [
      "Since Science is thrice as important, weighted science is:\n",
      " [[ 80  70 270  80]\n",
      " [ 60  85 225  75]\n",
      " [ 95  88 276  72]\n",
      " [ 70  60 195  75]\n",
      " [ 65  75 240  80]]\n",
      "Total score for Student1 is 500\n",
      "Total score for Student2 is 445\n",
      "Total score for Student3 is 531\n",
      "Total score for Student4 is 400\n",
      "Total score for Student5 is 460\n"
     ]
    }
   ],
   "source": [
    "#.3 Scalar multiplication\n",
    "weighh = np.array([1, 1, 3, 1])  \n",
    "weighed_scores = scores_2 * weighh\n",
    "\n",
    "weighted_total_scores = np.sum(weighed_scores, axis=1)\n",
    "print(\"Since Science is thrice as important, weighted science is:\\n\", weighed_scores)\n",
    "\n",
    "\n",
    "for i, total in enumerate(weighted_total_scores, 1):\n",
    "    print(f\"Total score for Student{i} is {total}\")"
   ]
  },
  {
   "cell_type": "code",
   "execution_count": 12,
   "id": "1fcab8ac",
   "metadata": {},
   "outputs": [
    {
     "name": "stdout",
     "output_type": "stream",
     "text": [
      "Student 1: 79.00\n",
      "Student 2: 72.00\n",
      "Student 3: 90.00\n",
      "Student 4: 66.50\n",
      "Student 5: 72.50\n"
     ]
    }
   ],
   "source": [
    "#.4 Final grades\n",
    "\n",
    "weigh = np.array([0.4, 0.3, 0.2, 0.1])\n",
    "final_grade = np.matmul(scores_2, weigh)\n",
    "\n",
    "for i, grades in enumerate(final_grade, 1):\n",
    "    print(f\"Student {i}: {grades:.2f}\")\n"
   ]
  },
  {
   "cell_type": "code",
   "execution_count": 13,
   "id": "07b20e7e",
   "metadata": {},
   "outputs": [
    {
     "name": "stdout",
     "output_type": "stream",
     "text": [
      "Overall Comparison:\n",
      "Student1 performed better\n"
     ]
    }
   ],
   "source": [
    "#.5 Comparing grades\n",
    "student_1 = scores_2[0]\n",
    "student_2 = scores_2[1]\n",
    "\n",
    "sum_student_1 = np.sum(scores_2[0])\n",
    "sum_student_2 = np.sum(scores_2[1])\n",
    "\n",
    "comparing_students = sum_student_1 - sum_student_2\n",
    "\n",
    "print(\"Overall Comparison:\")\n",
    "if comparing_students > 0:\n",
    "    print(\"Student1 performed better\")\n",
    "elif comparing_students < 0:\n",
    "    print(\"Student2 performed better\")\n",
    "else:\n",
    "    print(\"Both student tie\")"
   ]
  }
 ],
 "metadata": {
  "kernelspec": {
   "display_name": "Python 3",
   "language": "python",
   "name": "python3"
  },
  "language_info": {
   "codemirror_mode": {
    "name": "ipython",
    "version": 3
   },
   "file_extension": ".py",
   "mimetype": "text/x-python",
   "name": "python",
   "nbconvert_exporter": "python",
   "pygments_lexer": "ipython3",
   "version": "3.13.5"
  }
 },
 "nbformat": 4,
 "nbformat_minor": 5
}
