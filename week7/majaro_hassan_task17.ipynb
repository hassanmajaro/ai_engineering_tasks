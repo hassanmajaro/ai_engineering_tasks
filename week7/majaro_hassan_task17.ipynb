{
 "cells": [
  {
   "cell_type": "code",
   "execution_count": 2,
   "id": "88caceb3",
   "metadata": {},
   "outputs": [],
   "source": [
    "import numpy as np"
   ]
  },
  {
   "cell_type": "code",
   "execution_count": 65,
   "id": "2c9f4d21",
   "metadata": {},
   "outputs": [],
   "source": [
    "#3.1 representing data as matrix\n",
    "\n",
    "scores = np.array([[80, 70, 90],\n",
    "                  [60, 85, 75],\n",
    "                  [95, 88, 92],\n",
    "                  [70, 60, 65]])"
   ]
  },
  {
   "cell_type": "code",
   "execution_count": 68,
   "id": "15a23810",
   "metadata": {},
   "outputs": [
    {
     "name": "stdout",
     "output_type": "stream",
     "text": [
      "Total score for Student1 is 320\n",
      "Total score for Student2 is 280\n",
      "Total score for Student3 is 370\n",
      "Total score for Student4 is 265\n"
     ]
    }
   ],
   "source": [
    "#3.2 total scores per students\n",
    "\n",
    "sum_rows = np.sum(scores, axis=1)           # sum of all rows\n",
    "\n",
    "for i, total in enumerate(sum_rows, 1):                 # sum of each rows\n",
    "    print(f\"Total score for Student{i} is {total}\")"
   ]
  },
  {
   "cell_type": "code",
   "execution_count": null,
   "id": "cba28fa9",
   "metadata": {},
   "outputs": [
    {
     "name": "stdout",
     "output_type": "stream",
     "text": [
      "Since maths is twice as important, weighted maths is:\n",
      " [[160  70  90]\n",
      " [120  85  75]\n",
      " [190  88  92]\n",
      " [140  60  65]]\n",
      "Total score for Student1 is 320\n",
      "Total score for Student2 is 280\n",
      "Total score for Student3 is 370\n",
      "Total score for Student4 is 265\n"
     ]
    }
   ],
   "source": [
    "#3.3 applying weights\n",
    "\n",
    "weighed_maths = np.array([2, 1, 1])     # array for maths x 2\n",
    "\n",
    "weighted_maths = scores * weighed_maths     # multiplying math * 2 array with scores\n",
    "print(\"Since maths is twice as important, weighted maths is:\\n\", weighted_maths)\n",
    "\n",
    "scores = weighted_maths             # updating scores\n",
    "\n",
    "sum_rows2 = np.sum(weighted_maths, axis=1)      # sum of all rows in the new array\n",
    "\n",
    "for i, total in enumerate(sum_rows2, 1):                # sum of each rows of students\n",
    "    print(f\"Total score for Student{i} is {total}\")\n"
   ]
  },
  {
   "cell_type": "code",
   "execution_count": null,
   "id": "c9644653",
   "metadata": {},
   "outputs": [
    {
     "name": "stdout",
     "output_type": "stream",
     "text": [
      "Average of Maths is 152.5\n",
      "Average of English is 75.75\n",
      "Average of Science is 80.5\n"
     ]
    }
   ],
   "source": [
    "#3.4 average score per subject\n",
    "subjects = [\"Maths\", \"English\", \"Science\"]              # array for subject\n",
    "sub_avg = np.mean(scores, axis=0)               # calculating the mean/average for all scores/columns\n",
    "\n",
    "for subject, avg in zip(subjects, sub_avg):     # average of each subject/column\n",
    "    print(f\"Average of {subject} is {avg}\")"
   ]
  },
  {
   "cell_type": "code",
   "execution_count": null,
   "id": "8a358375",
   "metadata": {},
   "outputs": [
    {
     "name": "stdout",
     "output_type": "stream",
     "text": [
      "Final Grade for Student1 is 119.0\n",
      "Final Grade for Student2 is 100.5\n",
      "Final Grade for Student3 is 139.8\n",
      "Final Grade for Student4 is 101.0\n"
     ]
    }
   ],
   "source": [
    "#3.5 final grades using matrix multiplication\n",
    "grades = np.array([0.5, 0.3, 0.2])              # grades\n",
    "final_grade = np.matmul(scores, grades)\n",
    "\n",
    "for i, grade in enumerate(final_grade, 1):\n",
    "    print(f\"Final Grade for Student{i} is {grade}\")\n"
   ]
  },
  {
   "cell_type": "code",
   "execution_count": 62,
   "id": "f5a60523",
   "metadata": {},
   "outputs": [
    {
     "name": "stdout",
     "output_type": "stream",
     "text": [
      "Student1 performed better\n"
     ]
    }
   ],
   "source": [
    "#3.6 comparing students (vector subtraction)\n",
    "student1 = scores[0]\n",
    "student2 = scores[1]\n",
    "\n",
    "sum_student1 = np.sum(scores[0])\n",
    "sum_student2 = np.sum(scores[1])\n",
    "\n",
    "comparing_student = sum_student1 - sum_student2 \n",
    "\n",
    "if comparing_student > 0:\n",
    "    print(\"Student1 performed better\")\n",
    "elif comparing_student < 0:\n",
    "    print(\"Student2 performed better\")\n",
    "else:\n",
    "    print(\"Both student tie\")"
   ]
  }
 ],
 "metadata": {
  "kernelspec": {
   "display_name": "new_module",
   "language": "python",
   "name": "python3"
  },
  "language_info": {
   "codemirror_mode": {
    "name": "ipython",
    "version": 3
   },
   "file_extension": ".py",
   "mimetype": "text/x-python",
   "name": "python",
   "nbconvert_exporter": "python",
   "pygments_lexer": "ipython3",
   "version": "3.13.5"
  }
 },
 "nbformat": 4,
 "nbformat_minor": 5
}
