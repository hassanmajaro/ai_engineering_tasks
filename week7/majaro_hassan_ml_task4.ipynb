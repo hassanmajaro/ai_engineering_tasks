{
 "cells": [
  {
   "cell_type": "markdown",
   "id": "6c1fd0e1",
   "metadata": {},
   "source": [
    "# Linear Algebra - Case Study\n",
    "\n",
    "**3.1 Representing Data as Matrix**\n",
    "\n",
    "$ scores = \\begin{bmatrix}80&70&90\\cr60 & 85 & 75\\cr95 & 88 & 92\\cr70 & 60 & 65\\end{bmatrix}$\n"
   ]
  },
  {
   "cell_type": "markdown",
   "id": "38e94b09",
   "metadata": {},
   "source": [
    "**3.2 Total Score per Student**\n",
    "\n",
    "In the matrix _scores_, the rows represent the student and the columns represent the subject.\n",
    "\n",
    "* Student 1: (80 + 70 + 90 = 240)\n",
    "* Student 2: (60 + 85 + 75 = 220)\n",
    "* Student 3: (95 + 88 + 92 = 275)\n",
    "* Student 4: (70 + 60 + 65 = 195)"
   ]
  },
  {
   "cell_type": "markdown",
   "id": "e621c205",
   "metadata": {},
   "source": [
    "**3.3 Applying Weights**\n",
    "\n",
    "Math is twice as important so; Math * 2, English * 1, Science * 1.\n",
    "\n",
    "Weighted matrix As: \n",
    "\n",
    "$ weighed.score = \\begin{bmatrix}80*2 & 70*1 & 90*1 \\\\60*2 & 85*1 & 75*1 \\\\95*2 & 88*1 & 92*1 \\\\70*2 & 60*1 & 65*1\\end{bmatrix}$\n",
    "\n",
    "$ weighed.score = \\begin{bmatrix}160 & 70 & 90 \\\\120 & 85 & 75 \\\\190 & 88 & 92 \\\\140 & 60 & 65\\end{bmatrix}$\n",
    "\n",
    "- Weighted total scores:\n",
    "  * Student 1: (160 + 70 + 90 = 320)\n",
    "  * Student 2: (120 + 85 + 75 = 280)\n",
    "  * Student 3: (190 + 88 + 92 = 370)\n",
    "  * Student 4: (140 + 60 + 65 = 265)"
   ]
  },
  {
   "cell_type": "markdown",
   "id": "6d591608",
   "metadata": {},
   "source": [
    "**3.4 Average Score per Subject**\n",
    "\n",
    "average_score = total_score_in_subject / no_of_student\n",
    "\n",
    "* Math: (80 + 60 + 95 + 70) / 4 = 305/4 = 76.25\n",
    "* English: (70 + 85 + 88 + 60) / 4 = 303/4 = 75.75\n",
    "* Science: (90 + 75 + 92 + 65) / 4 = 322/4 = 80.50"
   ]
  },
  {
   "cell_type": "markdown",
   "id": "96eed771",
   "metadata": {},
   "source": [
    "**3.5 Final Grades**\n",
    "\n",
    "Multiply through with vector [0.5, 0.3, 0.2]\n",
    "\n",
    "* Student 1: (80 x 0.5 + 70 x 0.3 + 90 x 0.2 = 40 + 21 + 18 = 79)\n",
    "* Student 2: (60 x 0.5 + 85 x 0.3 + 75 x 0.2 = 30 + 25.5 + 15 = 70.5)\n",
    "* Student 3: (95 x 0.5 + 88 x 0.3 + 92 x 0.2 = 47.5 + 26.4 + 18.4 = 92.3)\n",
    "* Student 4: (70 x 0.5 + 60 x 0.3 + 65 x 0.2 = 35 + 18 + 13 = 66)"
   ]
  },
  {
   "cell_type": "markdown",
   "id": "416dd5b3",
   "metadata": {},
   "source": [
    "**3.6 Comparing Students**\n",
    "Compare Student 1 and Student 2\n",
    "\n",
    "* Student 1: (80, 70, 90)\n",
    "* Student 2: (60, 85, 75)\n",
    "\n",
    "- Overall Comparison = (80 + 70 + 90) - (60 + 85 + 75) = 240 - 220 = 20\n",
    "- Student 1 performed better"
   ]
  },
  {
   "cell_type": "markdown",
   "id": "d55dbb0e",
   "metadata": {},
   "source": [
    "# Hands-On"
   ]
  },
  {
   "cell_type": "markdown",
   "id": "14b41e9f",
   "metadata": {},
   "source": [
    "**.1 Representing Data as Matrix**\n",
    "\n",
    "$ scores = \\begin{bmatrix}80 & 70 & 90 & 80\\cr60 & 85 & 75 & 75\\cr95 & 88 & 92 & 72\\cr70 & 60 & 65 & 75\\cr65 & 75 & 80 & 80\\end{bmatrix}$\n"
   ]
  },
  {
   "cell_type": "markdown",
   "id": "5fca8e37",
   "metadata": {},
   "source": [
    "**.2 Total Score Per Student**\n",
    "\n",
    "In the matrix _scores_, the rows represent the student and the columns represent the subject.\n",
    "\n",
    "* Student 1: (80 + 70 + 90 + 80 = 320)\n",
    "* Student 2: (60 + 85 + 75 + 75 = 295)\n",
    "* Student 3: (95 + 88 + 92 + 72 = 347)\n",
    "* Student 4: (70 + 60 + 65 + 75 = 270)\n",
    "* Student 5: (65 + 75 + 80 + 80 = 300)"
   ]
  },
  {
   "cell_type": "markdown",
   "id": "f13029fd",
   "metadata": {},
   "source": [
    "**.3 Scalar Multiplication**\n",
    "\n",
    "Weigh: Math * 1, English * 1, Science * 3, History * 1\n",
    "\n",
    "Weighted matrix: \n",
    "\n",
    "$ weighed.scores = \\begin{bmatrix}80*1 & 70*1 & 90*3 & 80*1\\cr60*1 & 85*1 & 75*3 & 75*1\\cr95*1 & 88*1 & 92*3 & 72*1\\cr70*1 & 60*1 & 65*3 & 75*1\\cr65*1 & 75*1 & 80*3 & 80*1\\end{bmatrix}$\n",
    "\n",
    "$ weighed.scores = \\begin{bmatrix}80 & 70 & 270 & 80\\\\60 & 85 & 225 & 75\\\\95 & 88 & 276 & 72\\\\70 & 60 & 195 & 75\\\\65 & 75 & 240 & 80\\end{bmatrix}$\n",
    "\n",
    "- Weighted total scores:\n",
    "  * Student 1: (80 + 70 + 270 + 80 = 500)\n",
    "  * Student 2: (60 + 85 + 225 + 75 = 445)\n",
    "  * Student 3: (95 + 88 + 276 + 72 = 531)\n",
    "  * Student 4: (70 + 60 + 195 + 75 = 400)\n",
    "  * Student 5: (65 + 75 + 240 + 80 = 460)"
   ]
  },
  {
   "cell_type": "markdown",
   "id": "49c02fa7",
   "metadata": {},
   "source": [
    "**.4 Final Grades**\n",
    "\n",
    "Multiply through with weight vector [0.4, 0.3, 0.2, 0.1]\n",
    "\n",
    "* Student 1: (80 x 0.4 + 70 x 0.3 + 90 x 0.2 + 80 x 0.1 = 32 + 21 + 18 + 8 = 79)\n",
    "* Student 2: (60 x 0.4 + 85 x 0.3 + 75 x 0.2 + 75 x 0.1 = 24 + 25.5 + 15 + 7.5 = 72)\n",
    "* Student 3: (95 x 0.4 + 88 x 0.3 + 92 x 0.2 + 72 x 0.1 = 38 + 26.4 + 18.4 + 7.2 = 90)\n",
    "* Student 4: (70 x 0.4 + 60 x 0.3 + 65 x 0.2 + 75 x 0.1 = 28 + 18 + 13 + 7.5 = 66.5)\n",
    "* Student 5: (65 x 0.4 + 75 x 0.3 + 80 x 0.2 + 80 x 0.1 = 26 + 22.5 + 16 + 8 = 72.5)"
   ]
  },
  {
   "cell_type": "markdown",
   "id": "b5de4fc9",
   "metadata": {},
   "source": [
    "**.5 Comparing Student**\n",
    "\n",
    "Compare Student 1 and Student 2\n",
    "\n",
    "* Student 1: (80 + 70 + 90 + 80 = 320)\n",
    "* Student 2: (60 + 85 + 75 + 75 = 295)\n",
    "\n",
    "* Overall Comparison = (80 + 70 + 90 + 80) - (60 + 85 + 75 + 75) = 320 - 295 = 25 \n",
    "\n",
    "**:-** Student 1 performed better"
   ]
  }
 ],
 "metadata": {
  "language_info": {
   "name": "python"
  }
 },
 "nbformat": 4,
 "nbformat_minor": 5
}
