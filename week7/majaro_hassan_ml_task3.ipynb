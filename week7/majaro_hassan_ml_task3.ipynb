{
 "cells": [
  {
   "cell_type": "markdown",
   "id": "87757ca3",
   "metadata": {},
   "source": [
    "# Linear Algebra Task 3\n",
    "&emsp; &emsp; &emsp; $Let  A=\\begin{bmatrix}2&-1\\cr0&3\\end{bmatrix}$ ,    &emsp; $B=\\begin{bmatrix}1&4\\cr-2&5\\end{bmatrix}$\n",
    "and let the scalars  _`(c = 2)`_, _`(d = 3)`_. \n",
    "\n",
    "a. Compute the following: _`(cA)`_, _`(dB)`_, and _`(c + d)A`_.\n",
    "\n",
    "b. Using the results gotten, verify the Scalar Multiplication Properties.\n",
    "\n",
    "c. Find the transpose of both matrices.\n",
    "\n",
    "d. Check if _`(A)`_ and _`(B)`_ are invertible by computing their determinants. If they are invertible, find: $A^{-1}$ and $B^{-1}$"
   ]
  },
  {
   "cell_type": "markdown",
   "id": "baae85c2",
   "metadata": {},
   "source": [
    "### Solution"
   ]
  },
  {
   "cell_type": "markdown",
   "id": "56ae7050",
   "metadata": {},
   "source": [
    "a.&emsp;_(cA)_ &emsp; = &emsp; 2 $\\begin{bmatrix}2&-1\\cr0&3\\end{bmatrix}$ &emsp; = &emsp; $\\begin{bmatrix}4&-2\\cr0&6\\end{bmatrix}$"
   ]
  },
  {
   "cell_type": "markdown",
   "id": "933225a0",
   "metadata": {},
   "source": [
    "&emsp;  _(dB)_ &emsp; = &emsp; 3 $\\begin{bmatrix}1&4\\cr-2&5\\end{bmatrix}$ &emsp; = &emsp; $\\begin{bmatrix}3&12\\cr-6&15\\end{bmatrix}$"
   ]
  },
  {
   "cell_type": "markdown",
   "id": "d1d0b9bf",
   "metadata": {},
   "source": [
    "&emsp; _(c+d)A_ &emsp; = (2+3) $\\begin{bmatrix}2&-1\\cr0&3\\end{bmatrix}$ &emsp; = &emsp; 5 $\\begin{bmatrix}2&-1\\cr0&3\\end{bmatrix}$ &emsp; = &emsp;$\\begin{bmatrix}10&-5\\cr0&15\\end{bmatrix}$"
   ]
  },
  {
   "cell_type": "markdown",
   "id": "628a492d",
   "metadata": {},
   "source": []
  },
  {
   "cell_type": "markdown",
   "id": "b3de702b",
   "metadata": {},
   "source": [
    "b. Using results gotten, verify the scalar multiplication properties"
   ]
  },
  {
   "cell_type": "markdown",
   "id": "b397683a",
   "metadata": {},
   "source": [
    "&emsp; (c + d)A &emsp; = &emsp;    cA + dA"
   ]
  },
  {
   "cell_type": "markdown",
   "id": "d30ef3e9",
   "metadata": {},
   "source": [
    "&emsp; &emsp; &emsp; &emsp; &emsp; = &emsp; 2 * $\\begin{bmatrix}2&-1\\cr0&3\\end{bmatrix}$ + 3 * $\\begin{bmatrix}2&-1\\cr0&3\\end{bmatrix}$"
   ]
  },
  {
   "cell_type": "markdown",
   "id": "7c63c20d",
   "metadata": {},
   "source": [
    "&emsp; &emsp; &emsp; &emsp; &emsp; = &emsp; $\\begin{bmatrix}4&-2\\cr0&6\\end{bmatrix}$ + $\\begin{bmatrix}6&-3\\cr0&9\\end{bmatrix}$ "
   ]
  },
  {
   "cell_type": "markdown",
   "id": "abbb0cfc",
   "metadata": {},
   "source": [
    "&emsp; &emsp; &emsp; &emsp; &emsp; = &emsp; $\\begin{bmatrix}10&-5\\cr0&15\\end{bmatrix}$"
   ]
  },
  {
   "cell_type": "markdown",
   "id": "6460e64c",
   "metadata": {},
   "source": []
  },
  {
   "cell_type": "markdown",
   "id": "f3ed4cde",
   "metadata": {},
   "source": [
    "c.  Transpose of _`A`_ and _`B`_"
   ]
  },
  {
   "cell_type": "markdown",
   "id": "4ef5b6db",
   "metadata": {},
   "source": [
    "&emsp; &emsp; &emsp; $A^T=\\begin{bmatrix}2&0\\cr-1&3\\end{bmatrix}$ , &emsp; &emsp; &emsp; $B^T=\\begin{bmatrix}1&-2\\cr4&5\\end{bmatrix}$\n"
   ]
  },
  {
   "cell_type": "markdown",
   "id": "e8cf0bce",
   "metadata": {},
   "source": []
  },
  {
   "cell_type": "markdown",
   "id": "5cddac68",
   "metadata": {},
   "source": [
    "d.  Check if _`(A)`_ and _`(B)`_ are invertible by computing their determinants. If they are invertible, find: $A^{-1}$ and $B^{-1}$"
   ]
  },
  {
   "cell_type": "markdown",
   "id": "3fb84a0f",
   "metadata": {},
   "source": [
    "To check; first find the determinants"
   ]
  },
  {
   "cell_type": "markdown",
   "id": "f6521672",
   "metadata": {},
   "source": [
    "&emsp; &emsp;  _det(A)_ &emsp; = &emsp; (ad - bc) "
   ]
  },
  {
   "cell_type": "markdown",
   "id": "90f5a672",
   "metadata": {},
   "source": [
    "&emsp; &emsp; &emsp; &emsp; &emsp;  = &emsp; (2 * 3) - (-1 * 0) "
   ]
  },
  {
   "cell_type": "markdown",
   "id": "fd49a112",
   "metadata": {},
   "source": [
    "&emsp; &emsp; &emsp; &emsp; &emsp; = &emsp; 6 - 0 &emsp; = &emsp; 6  "
   ]
  },
  {
   "cell_type": "markdown",
   "id": "460da39c",
   "metadata": {},
   "source": [
    "Since  _det(A)_ != 0, then it is invertible"
   ]
  },
  {
   "cell_type": "markdown",
   "id": "e5801c70",
   "metadata": {},
   "source": [
    "Then $A^{-1}$ &emsp; = &emsp; [($\\frac{1}{det(A)}$) * $\\begin{bmatrix}3&-(-1)\\cr-0&2\\end{bmatrix}$] &emsp; = &emsp;\n",
    "[($\\frac{1}{6}$) * $\\begin{bmatrix}3&1\\cr0&2\\end{bmatrix}$] &emsp; = &emsp; $\\begin{bmatrix}3 \\div 6&1 \\div 6\\cr0 \\div 6&2 \\div 6\\end{bmatrix}$ &emsp; = &emsp;\n",
    "$\\begin{bmatrix}1 \\div 2&1 \\div 6\\cr0 \\div 6&1 \\div 3\\end{bmatrix}$ &emsp; = &emsp; $\\begin{bmatrix}\\frac{1}{2}&\\frac{1}{6}\\cr0&\\frac{1}{3}\\end{bmatrix}$\n"
   ]
  },
  {
   "cell_type": "markdown",
   "id": "d32fcc8e",
   "metadata": {},
   "source": [
    "Therefore, &emsp; $A^{-1}$.A &emsp; = &emsp; $\\begin{bmatrix}\\frac{1}{2}&\\frac{1}{6}\\cr0&\\frac{1}{3}\\end{bmatrix}$.$\\begin{bmatrix}2&-1\\cr0&3\\end{bmatrix}$ &emsp; = &emsp;\n",
    "$\\begin{bmatrix}1&0\\cr0&1\\end{bmatrix}$ &emsp; = &emsp; $I_{2}$"
   ]
  },
  {
   "cell_type": "markdown",
   "id": "ee745762",
   "metadata": {},
   "source": []
  },
  {
   "cell_type": "markdown",
   "id": "91081e30",
   "metadata": {},
   "source": [
    "For _`B`_;"
   ]
  },
  {
   "cell_type": "markdown",
   "id": "88844d2a",
   "metadata": {},
   "source": [
    "&emsp; &emsp;  _det(B)_ &emsp; = &emsp; (ad - bc) "
   ]
  },
  {
   "cell_type": "markdown",
   "id": "3eacdce5",
   "metadata": {},
   "source": [
    "&emsp; &emsp; &emsp; &emsp; &emsp; = &emsp; (1 * 5) - (4 * -2) "
   ]
  },
  {
   "cell_type": "markdown",
   "id": "edfc8f65",
   "metadata": {},
   "source": [
    "&emsp; &emsp; &emsp; &emsp; &emsp; = &emsp; 5 + 8 &emsp; = &emsp; 13"
   ]
  },
  {
   "cell_type": "markdown",
   "id": "b91616fb",
   "metadata": {},
   "source": [
    "Then  $B^{-1}$ &emsp; = &emsp; [($\\frac{1}{det(B)}$) * $\\begin{bmatrix}5&-(4)\\cr-(-2)&1\\end{bmatrix}$] &emsp; = &emsp;\n",
    "[($\\frac{1}{13}$) * $\\begin{bmatrix}5&-4\\cr2&1\\end{bmatrix}$] &emsp; = &emsp; $\\begin{bmatrix}5 \\div 13&-4 \\div 13\\cr2 \\div 13&1 \\div 13\\end{bmatrix}$ &emsp; = &emsp;\n",
    " $\\begin{bmatrix}\\frac{5}{13}&\\frac{-4}{13}\\cr\\frac{2}{13}&\\frac{1}{13}\\end{bmatrix}$\n"
   ]
  },
  {
   "cell_type": "markdown",
   "id": "d832fed0",
   "metadata": {},
   "source": [
    "Therefore, &emsp; $B^{-1}$.B &emsp; = &emsp; $\\begin{bmatrix}\\frac{5}{13}&\\frac{-4}{13}\\cr\\frac{2}{13}&\\frac{1}{13}\\end{bmatrix}$.$\\begin{bmatrix}1&4\\cr-2&5\\end{bmatrix}$ &emsp; = &emsp;\n",
    "$\\begin{bmatrix}1&0\\cr0&1\\end{bmatrix}$ = $I_{2}$"
   ]
  }
 ],
 "metadata": {
  "language_info": {
   "name": "python"
  }
 },
 "nbformat": 4,
 "nbformat_minor": 5
}
