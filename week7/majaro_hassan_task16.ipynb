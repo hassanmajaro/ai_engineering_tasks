{
 "cells": [
  {
   "cell_type": "code",
   "execution_count": 1,
   "id": "af69463f",
   "metadata": {},
   "outputs": [],
   "source": [
    "import numpy as np"
   ]
  },
  {
   "cell_type": "code",
   "execution_count": 2,
   "id": "bc253b83",
   "metadata": {},
   "outputs": [
    {
     "name": "stdout",
     "output_type": "stream",
     "text": [
      "This is matrix A:\n",
      " [[ 2 -1]\n",
      " [ 0  3]]\n",
      " \n",
      "This is matrix B:\n",
      " [[ 1  4]\n",
      " [-2  5]]\n"
     ]
    }
   ],
   "source": [
    "A = [[2, -1], [0, 3]]\n",
    "B = [[1, 4], [-2, 5]]\n",
    "c = 2\n",
    "d = 3\n",
    "\n",
    "\n",
    "compute_A = np.array([[2, -1], [0, 3]])\n",
    "compute_B = np.array([[1, 4], [-2, 5]])\n",
    "print(f\"This is matrix A:\\n\", compute_A)\n",
    "print(\" \")\n",
    "print(f\"This is matrix B:\\n\", compute_B)"
   ]
  },
  {
   "cell_type": "markdown",
   "id": "848eb834",
   "metadata": {},
   "source": [
    "a.  Compute the following: `(cA)`, `(dB)`, and `(c + d)A`."
   ]
  },
  {
   "cell_type": "code",
   "execution_count": 3,
   "id": "3fa92e95",
   "metadata": {},
   "outputs": [
    {
     "name": "stdout",
     "output_type": "stream",
     "text": [
      "cA:\n",
      " [[ 4 -2]\n",
      " [ 0  6]]\n",
      " \n",
      "dB:\n",
      " [[ 3 12]\n",
      " [-6 15]]\n",
      " \n",
      "(c + d)A:\n",
      " [[10 -5]\n",
      " [ 0 15]]\n"
     ]
    }
   ],
   "source": [
    "cA = c * compute_A\n",
    "dB = d * compute_B\n",
    "cdA = (c +d) * compute_A\n",
    "\n",
    "print(\"cA:\\n\",cA)\n",
    "print(\" \")\n",
    "print(\"dB:\\n\",dB)\n",
    "print(\" \")\n",
    "print(\"(c + d)A:\\n\",cdA)"
   ]
  },
  {
   "cell_type": "markdown",
   "id": "209fa5fa",
   "metadata": {},
   "source": [
    "b. Using results gotten, verify the scalar multiplication properties"
   ]
  },
  {
   "cell_type": "code",
   "execution_count": 4,
   "id": "9d31f9d8",
   "metadata": {},
   "outputs": [
    {
     "name": "stdout",
     "output_type": "stream",
     "text": [
      "The scalar multiplication is:\n",
      " [[10 -5]\n",
      " [ 0 15]]\n"
     ]
    }
   ],
   "source": [
    "scalar_mult = cA + (d * compute_A)\n",
    "print(\"The scalar multiplication is:\\n\",scalar_mult)"
   ]
  },
  {
   "cell_type": "markdown",
   "id": "468359f0",
   "metadata": {},
   "source": [
    "c. Transpose of `A` and `B`"
   ]
  },
  {
   "cell_type": "code",
   "execution_count": 5,
   "id": "b273234f",
   "metadata": {},
   "outputs": [
    {
     "name": "stdout",
     "output_type": "stream",
     "text": [
      "The transpose of A is:\n",
      " [[ 2  0]\n",
      " [-1  3]]\n",
      "\n",
      "The transpose of B is:\n",
      " [[ 1 -2]\n",
      " [ 4  5]]\n"
     ]
    }
   ],
   "source": [
    "a_transpose = compute_A.T\n",
    "b_transpose = compute_B.T\n",
    "\n",
    "print(\"The transpose of A is:\\n\", a_transpose)\n",
    "print(\"\")\n",
    "print(\"The transpose of B is:\\n\", b_transpose)"
   ]
  },
  {
   "cell_type": "markdown",
   "id": "9adf4ab3",
   "metadata": {},
   "source": [
    "d. Check if `(A)` and `(B)` are invertible by computing their determinants. If they are invertible, find:  and"
   ]
  },
  {
   "cell_type": "code",
   "execution_count": 7,
   "id": "b086b0a7",
   "metadata": {},
   "outputs": [
    {
     "name": "stdout",
     "output_type": "stream",
     "text": [
      "The determinant of Array A is: \n",
      " 6.0\n",
      "The determinant of Array B : \n",
      " 13.0\n"
     ]
    }
   ],
   "source": [
    "# finding determinants of  A and B arrays\n",
    "det_A = np.linalg.det(A)\n",
    "det_B = np.linalg.det(B)\n",
    "\n",
    "\n",
    "print(\"The determinant of Array A is: \\n\", det_A)\n",
    "\n",
    "print(\"The determinant of Array B : \\n\", det_B)\n"
   ]
  },
  {
   "cell_type": "markdown",
   "id": "bdeee9e0",
   "metadata": {},
   "source": [
    "**Since the determinant of both A & B > 0, then it is invertible**"
   ]
  },
  {
   "cell_type": "code",
   "execution_count": 11,
   "id": "3e590bd2",
   "metadata": {},
   "outputs": [
    {
     "name": "stdout",
     "output_type": "stream",
     "text": [
      "The Inverse of Array A is: \n",
      " [[0.5        0.16666667]\n",
      " [0.         0.33333333]]\n",
      "\n",
      "The Inverse of Array B is: \n",
      " [[ 0.38461538 -0.30769231]\n",
      " [ 0.15384615  0.07692308]]\n"
     ]
    }
   ],
   "source": [
    "# so the inverse of A and B arrays\n",
    "A_inv = np.linalg.inv(A)\n",
    "B_inv = np.linalg.inv(B)\n",
    "\n",
    "\n",
    "print(f\"The Inverse of Array A is: \\n {A_inv}\\n\")\n",
    "print(f\"The Inverse of Array B is: \\n {B_inv}\")"
   ]
  }
 ],
 "metadata": {
  "kernelspec": {
   "display_name": "Python 3",
   "language": "python",
   "name": "python3"
  },
  "language_info": {
   "codemirror_mode": {
    "name": "ipython",
    "version": 3
   },
   "file_extension": ".py",
   "mimetype": "text/x-python",
   "name": "python",
   "nbconvert_exporter": "python",
   "pygments_lexer": "ipython3",
   "version": "3.13.5"
  }
 },
 "nbformat": 4,
 "nbformat_minor": 5
}
