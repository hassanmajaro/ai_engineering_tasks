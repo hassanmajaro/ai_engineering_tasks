{
 "cells": [
  {
   "cell_type": "markdown",
   "id": "28ff85ad",
   "metadata": {},
   "source": [
    "# Task 2"
   ]
  },
  {
   "cell_type": "markdown",
   "id": "27777a58",
   "metadata": {},
   "source": [
    "**Given the following matrices:**\n",
    "\n",
    "            A = [2. -1,  3         B = [1,  2     \n",
    "                 0,  4,  1],           -2,  0     \n",
    "                                        5, -3]    "
   ]
  },
  {
   "cell_type": "markdown",
   "id": "4c19bff4",
   "metadata": {},
   "source": [
    "1.  Identify the number of rows and columns in each matrix\n",
    "2.  Determine whether the matrices can be multiplied. If so, specify whether it's `(AB)`, `(BA)`, or both.\n",
    "3.  If the multiplication is defined, compute the resulting matrix"
   ]
  },
  {
   "cell_type": "markdown",
   "id": "37d02b0f",
   "metadata": {},
   "source": [
    "### Solution"
   ]
  },
  {
   "cell_type": "markdown",
   "id": "8f6e336e",
   "metadata": {},
   "source": [
    "1.  The number of rows and columns in `Matrix A` is `2` by `3` respectively and the number of rows and columns in `Matrix B` is `3` by `2` respectively."
   ]
  },
  {
   "cell_type": "markdown",
   "id": "c57e0437",
   "metadata": {},
   "source": [
    "2.  The matrices can be multiplied since the number of columns in `Matrix A` is the same as the number of rows in `Matrix B`. So both `(AB)` and `(BA)` will work."
   ]
  },
  {
   "cell_type": "markdown",
   "id": "a415e99d",
   "metadata": {},
   "source": [
    "3.  Resulting matrix"
   ]
  },
  {
   "cell_type": "code",
   "execution_count": 1,
   "id": "72443208",
   "metadata": {},
   "outputs": [],
   "source": [
    "import numpy as np"
   ]
  },
  {
   "cell_type": "code",
   "execution_count": 2,
   "id": "b3602c3a",
   "metadata": {},
   "outputs": [],
   "source": [
    "A = np.array([[2, -1, 3],\n",
    "              [0, 4, 1]])\n",
    "\n",
    "B = np.array([[1, 2],\n",
    "              [-2, 0],\n",
    "              [5, -3]])"
   ]
  },
  {
   "cell_type": "code",
   "execution_count": 3,
   "id": "f4f16937",
   "metadata": {},
   "outputs": [
    {
     "name": "stdout",
     "output_type": "stream",
     "text": [
      "Matrix A:\n",
      " [[ 2 -1  3]\n",
      " [ 0  4  1]] \n",
      "Matrix B:\n",
      " [[ 1  2]\n",
      " [-2  0]\n",
      " [ 5 -3]]\n",
      "\n",
      "Matrix '(AB)' is:\n",
      " [[19 -5]\n",
      " [-3 -3]]\n",
      "Matrix '(BA)' is:\n",
      " [[  2   7   5]\n",
      " [ -4   2  -6]\n",
      " [ 10 -17  12]]\n"
     ]
    }
   ],
   "source": [
    "matrix1 = np.dot(A, B)\n",
    "matrix2 = np.dot(B, A)\n",
    "print(\"Matrix A:\\n\", A, \"\\nMatrix B:\\n\", B)\n",
    "print(\"\\nMatrix '(AB)' is:\\n\", matrix1)\n",
    "print(\"Matrix '(BA)' is:\\n\", matrix2)"
   ]
  }
 ],
 "metadata": {
  "kernelspec": {
   "display_name": "my_venv",
   "language": "python",
   "name": "python3"
  },
  "language_info": {
   "codemirror_mode": {
    "name": "ipython",
    "version": 3
   },
   "file_extension": ".py",
   "mimetype": "text/x-python",
   "name": "python",
   "nbconvert_exporter": "python",
   "pygments_lexer": "ipython3",
   "version": "3.13.7"
  }
 },
 "nbformat": 4,
 "nbformat_minor": 5
}
